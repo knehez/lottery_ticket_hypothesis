{
 "cells": [
  {
   "cell_type": "markdown",
   "metadata": {},
   "source": [
    "# ♟️ Modell elleni sakk (folyamatos játék loop-pal)\n",
    "Ez a notebook lehetővé teszi, hogy ember játszon az MLP Mixer modell ellen egy ciklusban, grafikus sakktáblán keresztül."
   ]
  },
  {
   "cell_type": "code",
   "execution_count": null,
   "metadata": {},
   "outputs": [],
   "source": [
    "import chess\n",
    "import chess.svg\n",
    "from IPython.display import SVG, display\n",
    "import torch\n",
    "from MLP_chess import MixerPolicyValueHead, mixer, fen_to_tensor\n",
    "\n",
    "model = MixerPolicyValueHead(mixer)\n",
    "model.load_state_dict(torch.load(\"mixer_policyvalue_iter5.pt\"))\n",
    "model.eval()\n",
    "\n",
    "board = chess.Board()\n",
    "\n",
    "def show():\n",
    "    display(SVG(chess.svg.board(board)))\n",
    "\n",
    "def predict_best_move(model, board):\n",
    "    with torch.no_grad():\n",
    "        x = torch.tensor(fen_to_tensor(board.fen()), dtype=torch.float32).unsqueeze(0)\n",
    "        policy_logits, _ = model(x)\n",
    "        probs = torch.softmax(policy_logits.view(1, 64 * 64), dim=1).view(64, 64)\n",
    "        legal_moves = list(board.legal_moves)\n",
    "        scores = {m: probs[m.from_square][m.to_square].item() for m in legal_moves}\n",
    "        return max(scores, key=scores.get) if scores else None\n",
    "\n",
    "show()"
   ]
  },
  {
   "cell_type": "code",
   "execution_count": null,
   "metadata": {},
   "outputs": [],
   "source": [
    "# ♻️ Lépésenkénti ciklus\n",
    "while not board.is_game_over():\n",
    "    move_input = input(\"Your move (e.g. e2e4): \")\n",
    "    try:\n",
    "        move = chess.Move.from_uci(move_input)\n",
    "        if move in board.legal_moves:\n",
    "            board.push(move)\n",
    "            show()\n",
    "        else:\n",
    "            print(\"Illegal move.\")\n",
    "            continue\n",
    "    except:\n",
    "        print(\"Invalid format.\")\n",
    "        continue\n",
    "\n",
    "    if board.is_game_over():\n",
    "        break\n",
    "\n",
    "    model_move = predict_best_move(model, board)\n",
    "    print(f\"Model plays: {model_move}\")\n",
    "    board.push(model_move)\n",
    "    show()\n",
    "\n",
    "print(\"\\nGame Over:\", board.result())"
   ]
  }
 ],
 "metadata": {
  "kernelspec": {
   "display_name": ".venv",
   "language": "python",
   "name": "python3"
  },
  "language_info": {
   "codemirror_mode": {
    "name": "ipython",
    "version": 3
   },
   "file_extension": ".py",
   "mimetype": "text/x-python",
   "name": "python",
   "nbconvert_exporter": "python",
   "pygments_lexer": "ipython3",
   "version": "3.11.3"
  }
 },
 "nbformat": 4,
 "nbformat_minor": 5
}
